{
  "nbformat": 4,
  "nbformat_minor": 0,
  "metadata": {
    "colab": {
      "name": "ALY 6015 - Navya Kovvuri - Homework Assignment #1 Colab.ipynb",
      "provenance": [],
      "collapsed_sections": [],
      "authorship_tag": "ABX9TyNRLHgU362nafQaV+TbePLB",
      "include_colab_link": true
    },
    "kernelspec": {
      "name": "python3",
      "display_name": "Python 3"
    }
  },
  "cells": [
    {
      "cell_type": "markdown",
      "metadata": {
        "id": "view-in-github",
        "colab_type": "text"
      },
      "source": [
        "<a href=\"https://colab.research.google.com/github/Navyakovvuri/Video_games_sales/blob/main/Video_game_sales.ipynb\" target=\"_parent\"><img src=\"https://colab.research.google.com/assets/colab-badge.svg\" alt=\"Open In Colab\"/></a>"
      ]
    },
    {
      "cell_type": "markdown",
      "metadata": {
        "id": "WgrSdFbJDzE6"
      },
      "source": [
        "#Import all libraries"
      ]
    },
    {
      "cell_type": "markdown",
      "metadata": {
        "id": "5NLihOqnzszk"
      },
      "source": [
        "Imported all the Required Libraries."
      ]
    },
    {
      "cell_type": "code",
      "metadata": {
        "id": "lG-aBmfVBBgM"
      },
      "source": [
        "import matplotlib.pyplot as plt\n",
        "\n",
        "import numpy as np\n",
        "import os\n",
        "import pandas as pd\n",
        "\n",
        "import scipy\n",
        "from scipy.stats.stats import pearsonr\n",
        "import seaborn as sns"
      ],
      "execution_count": null,
      "outputs": []
    },
    {
      "cell_type": "markdown",
      "metadata": {
        "id": "Ql_cDTnIKA6d"
      },
      "source": [
        "#Introducing the video games sales dataset\n",
        "\n"
      ]
    },
    {
      "cell_type": "markdown",
      "metadata": {
        "id": "_vbwaTnuOd26"
      },
      "source": [
        "#Acquire the data"
      ]
    },
    {
      "cell_type": "markdown",
      "metadata": {
        "id": "s38UsGc3z-OG"
      },
      "source": [
        "\n",
        "\n",
        "*   For this exercise, I elected to use data from https://data.world/sumitrock/video-games-sales and then modified it.\n",
        "\n",
        "\n"
      ]
    },
    {
      "cell_type": "code",
      "metadata": {
        "colab": {
          "base_uri": "https://localhost:8080/"
        },
        "id": "UNxYy3NEBdNO",
        "outputId": "b87fa8e6-9776-43f0-d2dd-887f1ee8a571"
      },
      "source": [
        "data_path =\"https://docs.google.com/spreadsheets/d/e/2PACX-1vTR3yIhNlKEzQ_CGZzFQHLhrA_pn0vJ58BtZnlcaB-lwPW30lsYQL3squw7PNboEHYYeDu1gZ-CHSdZ/pub?gid=1326630692&single=true&output=csv\"\n",
        "vgs = pd.read_csv(data_path)\n",
        "vgs.shape"
      ],
      "execution_count": null,
      "outputs": [
        {
          "output_type": "execute_result",
          "data": {
            "text/plain": [
              "(16719, 16)"
            ]
          },
          "metadata": {
            "tags": []
          },
          "execution_count": 2
        }
      ]
    },
    {
      "cell_type": "code",
      "metadata": {
        "colab": {
          "base_uri": "https://localhost:8080/",
          "height": 292
        },
        "id": "wBARjzbEBbMT",
        "outputId": "ec252fb6-74dd-4509-aaba-a0c08b170fda"
      },
      "source": [
        "vgs.head()"
      ],
      "execution_count": null,
      "outputs": [
        {
          "output_type": "execute_result",
          "data": {
            "text/html": [
              "<div>\n",
              "<style scoped>\n",
              "    .dataframe tbody tr th:only-of-type {\n",
              "        vertical-align: middle;\n",
              "    }\n",
              "\n",
              "    .dataframe tbody tr th {\n",
              "        vertical-align: top;\n",
              "    }\n",
              "\n",
              "    .dataframe thead th {\n",
              "        text-align: right;\n",
              "    }\n",
              "</style>\n",
              "<table border=\"1\" class=\"dataframe\">\n",
              "  <thead>\n",
              "    <tr style=\"text-align: right;\">\n",
              "      <th></th>\n",
              "      <th>Name</th>\n",
              "      <th>Platform</th>\n",
              "      <th>Year_of_release</th>\n",
              "      <th>Genre</th>\n",
              "      <th>Publisher</th>\n",
              "      <th>NA_Sales</th>\n",
              "      <th>EU_Sales</th>\n",
              "      <th>JP_Sales</th>\n",
              "      <th>Other_Sales</th>\n",
              "      <th>Global_Sales</th>\n",
              "      <th>Critic_Score</th>\n",
              "      <th>Critic_Count</th>\n",
              "      <th>User_Score</th>\n",
              "      <th>User_Count</th>\n",
              "      <th>Developer</th>\n",
              "      <th>Rating</th>\n",
              "    </tr>\n",
              "  </thead>\n",
              "  <tbody>\n",
              "    <tr>\n",
              "      <th>0</th>\n",
              "      <td>Wii Sports</td>\n",
              "      <td>Wii</td>\n",
              "      <td>2006.0</td>\n",
              "      <td>Sports</td>\n",
              "      <td>Nintendo</td>\n",
              "      <td>41.36</td>\n",
              "      <td>28.96</td>\n",
              "      <td>3.77</td>\n",
              "      <td>8.45</td>\n",
              "      <td>82.53</td>\n",
              "      <td>76.0</td>\n",
              "      <td>51.0</td>\n",
              "      <td>8</td>\n",
              "      <td>322.0</td>\n",
              "      <td>Nintendo</td>\n",
              "      <td>E</td>\n",
              "    </tr>\n",
              "    <tr>\n",
              "      <th>1</th>\n",
              "      <td>Super Mario Bros.</td>\n",
              "      <td>NES</td>\n",
              "      <td>1985.0</td>\n",
              "      <td>Platform</td>\n",
              "      <td>Nintendo</td>\n",
              "      <td>29.08</td>\n",
              "      <td>3.58</td>\n",
              "      <td>6.81</td>\n",
              "      <td>0.77</td>\n",
              "      <td>40.24</td>\n",
              "      <td>NaN</td>\n",
              "      <td>NaN</td>\n",
              "      <td>NaN</td>\n",
              "      <td>NaN</td>\n",
              "      <td>NaN</td>\n",
              "      <td>NaN</td>\n",
              "    </tr>\n",
              "    <tr>\n",
              "      <th>2</th>\n",
              "      <td>Mario Kart Wii</td>\n",
              "      <td>Wii</td>\n",
              "      <td>2008.0</td>\n",
              "      <td>Racing</td>\n",
              "      <td>Nintendo</td>\n",
              "      <td>15.68</td>\n",
              "      <td>12.76</td>\n",
              "      <td>3.79</td>\n",
              "      <td>3.29</td>\n",
              "      <td>35.52</td>\n",
              "      <td>82.0</td>\n",
              "      <td>73.0</td>\n",
              "      <td>8.3</td>\n",
              "      <td>709.0</td>\n",
              "      <td>Nintendo</td>\n",
              "      <td>E</td>\n",
              "    </tr>\n",
              "    <tr>\n",
              "      <th>3</th>\n",
              "      <td>Wii Sports Resort</td>\n",
              "      <td>Wii</td>\n",
              "      <td>2009.0</td>\n",
              "      <td>Sports</td>\n",
              "      <td>Nintendo</td>\n",
              "      <td>15.61</td>\n",
              "      <td>10.93</td>\n",
              "      <td>3.28</td>\n",
              "      <td>2.95</td>\n",
              "      <td>32.77</td>\n",
              "      <td>80.0</td>\n",
              "      <td>73.0</td>\n",
              "      <td>8</td>\n",
              "      <td>192.0</td>\n",
              "      <td>Nintendo</td>\n",
              "      <td>E</td>\n",
              "    </tr>\n",
              "    <tr>\n",
              "      <th>4</th>\n",
              "      <td>Pokemon Red/Pokemon Blue</td>\n",
              "      <td>GB</td>\n",
              "      <td>1996.0</td>\n",
              "      <td>Role-Playing</td>\n",
              "      <td>Nintendo</td>\n",
              "      <td>11.27</td>\n",
              "      <td>8.89</td>\n",
              "      <td>10.22</td>\n",
              "      <td>1.00</td>\n",
              "      <td>31.37</td>\n",
              "      <td>NaN</td>\n",
              "      <td>NaN</td>\n",
              "      <td>NaN</td>\n",
              "      <td>NaN</td>\n",
              "      <td>NaN</td>\n",
              "      <td>NaN</td>\n",
              "    </tr>\n",
              "  </tbody>\n",
              "</table>\n",
              "</div>"
            ],
            "text/plain": [
              "                       Name Platform  ...  Developer Rating\n",
              "0                Wii Sports      Wii  ...   Nintendo      E\n",
              "1         Super Mario Bros.      NES  ...        NaN    NaN\n",
              "2            Mario Kart Wii      Wii  ...   Nintendo      E\n",
              "3         Wii Sports Resort      Wii  ...   Nintendo      E\n",
              "4  Pokemon Red/Pokemon Blue       GB  ...        NaN    NaN\n",
              "\n",
              "[5 rows x 16 columns]"
            ]
          },
          "metadata": {
            "tags": []
          },
          "execution_count": 3
        }
      ]
    },
    {
      "cell_type": "code",
      "metadata": {
        "colab": {
          "base_uri": "https://localhost:8080/",
          "height": 360
        },
        "id": "y4wfZu2ksJ7Q",
        "outputId": "67124812-1f74-42ab-c0a9-24ce3a23d53c"
      },
      "source": [
        "vgs.tail()"
      ],
      "execution_count": null,
      "outputs": [
        {
          "output_type": "execute_result",
          "data": {
            "text/html": [
              "<div>\n",
              "<style scoped>\n",
              "    .dataframe tbody tr th:only-of-type {\n",
              "        vertical-align: middle;\n",
              "    }\n",
              "\n",
              "    .dataframe tbody tr th {\n",
              "        vertical-align: top;\n",
              "    }\n",
              "\n",
              "    .dataframe thead th {\n",
              "        text-align: right;\n",
              "    }\n",
              "</style>\n",
              "<table border=\"1\" class=\"dataframe\">\n",
              "  <thead>\n",
              "    <tr style=\"text-align: right;\">\n",
              "      <th></th>\n",
              "      <th>Name</th>\n",
              "      <th>Platform</th>\n",
              "      <th>Year_of_release</th>\n",
              "      <th>Genre</th>\n",
              "      <th>Publisher</th>\n",
              "      <th>NA_Sales</th>\n",
              "      <th>EU_Sales</th>\n",
              "      <th>JP_Sales</th>\n",
              "      <th>Other_Sales</th>\n",
              "      <th>Global_Sales</th>\n",
              "      <th>Critic_Score</th>\n",
              "      <th>Critic_Count</th>\n",
              "      <th>User_Score</th>\n",
              "      <th>User_Count</th>\n",
              "      <th>Developer</th>\n",
              "      <th>Rating</th>\n",
              "    </tr>\n",
              "  </thead>\n",
              "  <tbody>\n",
              "    <tr>\n",
              "      <th>16714</th>\n",
              "      <td>Samurai Warriors: Sanada Maru</td>\n",
              "      <td>PS3</td>\n",
              "      <td>2016.0</td>\n",
              "      <td>Action</td>\n",
              "      <td>Tecmo Koei</td>\n",
              "      <td>0.00</td>\n",
              "      <td>0.00</td>\n",
              "      <td>0.01</td>\n",
              "      <td>0.0</td>\n",
              "      <td>0.01</td>\n",
              "      <td>NaN</td>\n",
              "      <td>NaN</td>\n",
              "      <td>NaN</td>\n",
              "      <td>NaN</td>\n",
              "      <td>NaN</td>\n",
              "      <td>NaN</td>\n",
              "    </tr>\n",
              "    <tr>\n",
              "      <th>16715</th>\n",
              "      <td>LMA Manager 2007</td>\n",
              "      <td>X360</td>\n",
              "      <td>2006.0</td>\n",
              "      <td>Sports</td>\n",
              "      <td>Codemasters</td>\n",
              "      <td>0.00</td>\n",
              "      <td>0.01</td>\n",
              "      <td>0.00</td>\n",
              "      <td>0.0</td>\n",
              "      <td>0.01</td>\n",
              "      <td>NaN</td>\n",
              "      <td>NaN</td>\n",
              "      <td>NaN</td>\n",
              "      <td>NaN</td>\n",
              "      <td>NaN</td>\n",
              "      <td>NaN</td>\n",
              "    </tr>\n",
              "    <tr>\n",
              "      <th>16716</th>\n",
              "      <td>Haitaka no Psychedelica</td>\n",
              "      <td>PSV</td>\n",
              "      <td>2016.0</td>\n",
              "      <td>Adventure</td>\n",
              "      <td>Idea Factory</td>\n",
              "      <td>0.00</td>\n",
              "      <td>0.00</td>\n",
              "      <td>0.01</td>\n",
              "      <td>0.0</td>\n",
              "      <td>0.01</td>\n",
              "      <td>NaN</td>\n",
              "      <td>NaN</td>\n",
              "      <td>NaN</td>\n",
              "      <td>NaN</td>\n",
              "      <td>NaN</td>\n",
              "      <td>NaN</td>\n",
              "    </tr>\n",
              "    <tr>\n",
              "      <th>16717</th>\n",
              "      <td>Spirits &amp; Spells</td>\n",
              "      <td>GBA</td>\n",
              "      <td>2003.0</td>\n",
              "      <td>Platform</td>\n",
              "      <td>Wanadoo</td>\n",
              "      <td>0.01</td>\n",
              "      <td>0.00</td>\n",
              "      <td>0.00</td>\n",
              "      <td>0.0</td>\n",
              "      <td>0.01</td>\n",
              "      <td>NaN</td>\n",
              "      <td>NaN</td>\n",
              "      <td>NaN</td>\n",
              "      <td>NaN</td>\n",
              "      <td>NaN</td>\n",
              "      <td>NaN</td>\n",
              "    </tr>\n",
              "    <tr>\n",
              "      <th>16718</th>\n",
              "      <td>Winning Post 8 2016</td>\n",
              "      <td>PSV</td>\n",
              "      <td>2016.0</td>\n",
              "      <td>Simulation</td>\n",
              "      <td>Tecmo Koei</td>\n",
              "      <td>0.00</td>\n",
              "      <td>0.00</td>\n",
              "      <td>0.01</td>\n",
              "      <td>0.0</td>\n",
              "      <td>0.01</td>\n",
              "      <td>NaN</td>\n",
              "      <td>NaN</td>\n",
              "      <td>NaN</td>\n",
              "      <td>NaN</td>\n",
              "      <td>NaN</td>\n",
              "      <td>NaN</td>\n",
              "    </tr>\n",
              "  </tbody>\n",
              "</table>\n",
              "</div>"
            ],
            "text/plain": [
              "                                Name Platform  ...  Developer Rating\n",
              "16714  Samurai Warriors: Sanada Maru      PS3  ...        NaN    NaN\n",
              "16715               LMA Manager 2007     X360  ...        NaN    NaN\n",
              "16716        Haitaka no Psychedelica      PSV  ...        NaN    NaN\n",
              "16717               Spirits & Spells      GBA  ...        NaN    NaN\n",
              "16718            Winning Post 8 2016      PSV  ...        NaN    NaN\n",
              "\n",
              "[5 rows x 16 columns]"
            ]
          },
          "metadata": {
            "tags": []
          },
          "execution_count": 4
        }
      ]
    },
    {
      "cell_type": "markdown",
      "metadata": {
        "id": "LSX7F9gMK23x"
      },
      "source": [
        "**Data** **Set** **information**: \n",
        "\n",
        "This research aimed at video games sales data all over the world.\n",
        "\n",
        "\n",
        "**Features Description:**\n",
        "\n",
        "*   Name: Name of the game\n",
        "\n",
        "*   Platform: console on which the game is running\n",
        "\n",
        "*   Genre: Game's category\n",
        "\n",
        "*   Publisher: A company that publishes video games\n",
        "\n",
        "*   NA_Sales: Game sales in North America (in millions of units)\n",
        "\n",
        "*   EU_Sales: Game sales in European Union (in millions of units)\n",
        "\n",
        "*   JP_Sales: Game sales in Japan (in millions of units)\n",
        "\n",
        "*   Other_Sales: Game sales in the rest of the world (excluding Japan,  European Union, North America (in millions of units))\n",
        "\n",
        "*   Global_Sales: Total sales all over the world (in millions of units)\n",
        "\n",
        "*  Critic_Score: Aggregate score compiled by Metacritic staff \n",
        "\n",
        "*  Critic_Count: The number of critics used in coming up with the Critic_score\n",
        "\n",
        "*  User_Score: Score by Metacritic’s subscribers\n",
        "\n",
        "*  Developer: Party responsible for creating the game\n",
        "\n",
        "*  Rating: The ESRB ratings (Entertainment Software Rating Board)\n",
        "\n",
        "Now let’s take a look at what those ratings means:\n",
        "\n",
        "E: Everyone can play it\n",
        "\n",
        "M: Mature 17+\n",
        "\n",
        "T: For Teens\n",
        "\n",
        "K-A: Kids to Adults\n",
        "\n",
        "AO: Adults Only\n",
        "\n",
        "RP: Ratings are Pending\n",
        "\n",
        "E10+: Age of 10+ can play\n",
        "\n",
        "\n",
        "\n",
        "\n",
        "\n",
        "\n",
        "\n",
        "\n",
        "\n",
        "\n",
        "\n",
        "\n",
        "\n",
        "\n",
        "\n",
        "\n",
        "\n",
        "\n",
        "\n",
        "\n",
        "\n",
        "\n"
      ]
    },
    {
      "cell_type": "markdown",
      "metadata": {
        "id": "LrwVJttVUWx9"
      },
      "source": [
        "#Perform light manipulations\n",
        "\n"
      ]
    },
    {
      "cell_type": "markdown",
      "metadata": {
        "id": "EqfciDf8BFDt"
      },
      "source": [
        "* **vgs.info()** displays the type of values each column in dataset like if the column has float, int, object values,etc."
      ]
    },
    {
      "cell_type": "code",
      "metadata": {
        "colab": {
          "base_uri": "https://localhost:8080/"
        },
        "id": "rNbZcYiiwXnp",
        "outputId": "7fad9777-8207-4158-9727-90e6711091af"
      },
      "source": [
        "vgs.info()"
      ],
      "execution_count": null,
      "outputs": [
        {
          "output_type": "stream",
          "text": [
            "<class 'pandas.core.frame.DataFrame'>\n",
            "RangeIndex: 16719 entries, 0 to 16718\n",
            "Data columns (total 16 columns):\n",
            " #   Column           Non-Null Count  Dtype  \n",
            "---  ------           --------------  -----  \n",
            " 0   Name             16717 non-null  object \n",
            " 1   Platform         16719 non-null  object \n",
            " 2   Year_of_release  16450 non-null  float64\n",
            " 3   Genre            16717 non-null  object \n",
            " 4   Publisher        16665 non-null  object \n",
            " 5   NA_Sales         16719 non-null  float64\n",
            " 6   EU_Sales         16719 non-null  float64\n",
            " 7   JP_Sales         16719 non-null  float64\n",
            " 8   Other_Sales      16719 non-null  float64\n",
            " 9   Global_Sales     16719 non-null  float64\n",
            " 10  Critic_Score     8137 non-null   float64\n",
            " 11  Critic_Count     8137 non-null   float64\n",
            " 12  User_Score       10015 non-null  object \n",
            " 13  User_Count       7590 non-null   float64\n",
            " 14  Developer        10096 non-null  object \n",
            " 15  Rating           9950 non-null   object \n",
            "dtypes: float64(9), object(7)\n",
            "memory usage: 2.0+ MB\n"
          ],
          "name": "stdout"
        }
      ]
    },
    {
      "cell_type": "markdown",
      "metadata": {
        "id": "Kk41yvCIRuFP"
      },
      "source": [
        "* **isnull()** is used to findout whether there are any Nan values in the dataset."
      ]
    },
    {
      "cell_type": "code",
      "metadata": {
        "colab": {
          "base_uri": "https://localhost:8080/"
        },
        "id": "kltZOzDfoymZ",
        "outputId": "5115e655-3b0d-47c8-83ec-ea1f5a83ea23"
      },
      "source": [
        "vgs.isnull().any()"
      ],
      "execution_count": null,
      "outputs": [
        {
          "output_type": "execute_result",
          "data": {
            "text/plain": [
              "Name                True\n",
              "Platform           False\n",
              "Year_of_release     True\n",
              "Genre               True\n",
              "Publisher           True\n",
              "NA_Sales           False\n",
              "EU_Sales           False\n",
              "JP_Sales           False\n",
              "Other_Sales        False\n",
              "Global_Sales       False\n",
              "Critic_Score        True\n",
              "Critic_Count        True\n",
              "User_Score          True\n",
              "User_Count          True\n",
              "Developer           True\n",
              "Rating              True\n",
              "dtype: bool"
            ]
          },
          "metadata": {
            "tags": []
          },
          "execution_count": 6
        }
      ]
    },
    {
      "cell_type": "markdown",
      "metadata": {
        "id": "nnKi14fQR3UI"
      },
      "source": [
        "* **isna().sum()** counts the number of Nan values in each column."
      ]
    },
    {
      "cell_type": "code",
      "metadata": {
        "colab": {
          "base_uri": "https://localhost:8080/"
        },
        "id": "9X0aOmwDo_N8",
        "outputId": "58d46c42-1b65-40eb-d8a1-d867b1a8ba8b"
      },
      "source": [
        "vgs.isna().sum()"
      ],
      "execution_count": null,
      "outputs": [
        {
          "output_type": "execute_result",
          "data": {
            "text/plain": [
              "Name                  2\n",
              "Platform              0\n",
              "Year_of_release     269\n",
              "Genre                 2\n",
              "Publisher            54\n",
              "NA_Sales              0\n",
              "EU_Sales              0\n",
              "JP_Sales              0\n",
              "Other_Sales           0\n",
              "Global_Sales          0\n",
              "Critic_Score       8582\n",
              "Critic_Count       8582\n",
              "User_Score         6704\n",
              "User_Count         9129\n",
              "Developer          6623\n",
              "Rating             6769\n",
              "dtype: int64"
            ]
          },
          "metadata": {
            "tags": []
          },
          "execution_count": 7
        }
      ]
    },
    {
      "cell_type": "markdown",
      "metadata": {
        "id": "Y2yjUGhPShTC"
      },
      "source": [
        "* In below code **dropna** is used to drop the Nan values in the dataset."
      ]
    },
    {
      "cell_type": "code",
      "metadata": {
        "colab": {
          "base_uri": "https://localhost:8080/",
          "height": 377
        },
        "id": "Dlq41r1Xpa1o",
        "outputId": "b4162c64-8ed2-437f-b784-88bba64e4fe6"
      },
      "source": [
        "vgs.dropna(axis=0,inplace=True) \n",
        "vgs.head()"
      ],
      "execution_count": null,
      "outputs": [
        {
          "output_type": "execute_result",
          "data": {
            "text/html": [
              "<div>\n",
              "<style scoped>\n",
              "    .dataframe tbody tr th:only-of-type {\n",
              "        vertical-align: middle;\n",
              "    }\n",
              "\n",
              "    .dataframe tbody tr th {\n",
              "        vertical-align: top;\n",
              "    }\n",
              "\n",
              "    .dataframe thead th {\n",
              "        text-align: right;\n",
              "    }\n",
              "</style>\n",
              "<table border=\"1\" class=\"dataframe\">\n",
              "  <thead>\n",
              "    <tr style=\"text-align: right;\">\n",
              "      <th></th>\n",
              "      <th>Name</th>\n",
              "      <th>Platform</th>\n",
              "      <th>Year_of_release</th>\n",
              "      <th>Genre</th>\n",
              "      <th>Publisher</th>\n",
              "      <th>NA_Sales</th>\n",
              "      <th>EU_Sales</th>\n",
              "      <th>JP_Sales</th>\n",
              "      <th>Other_Sales</th>\n",
              "      <th>Global_Sales</th>\n",
              "      <th>Critic_Score</th>\n",
              "      <th>Critic_Count</th>\n",
              "      <th>User_Score</th>\n",
              "      <th>User_Count</th>\n",
              "      <th>Developer</th>\n",
              "      <th>Rating</th>\n",
              "    </tr>\n",
              "  </thead>\n",
              "  <tbody>\n",
              "    <tr>\n",
              "      <th>0</th>\n",
              "      <td>Wii Sports</td>\n",
              "      <td>Wii</td>\n",
              "      <td>2006.0</td>\n",
              "      <td>Sports</td>\n",
              "      <td>Nintendo</td>\n",
              "      <td>41.36</td>\n",
              "      <td>28.96</td>\n",
              "      <td>3.77</td>\n",
              "      <td>8.45</td>\n",
              "      <td>82.53</td>\n",
              "      <td>76.0</td>\n",
              "      <td>51.0</td>\n",
              "      <td>8</td>\n",
              "      <td>322.0</td>\n",
              "      <td>Nintendo</td>\n",
              "      <td>E</td>\n",
              "    </tr>\n",
              "    <tr>\n",
              "      <th>2</th>\n",
              "      <td>Mario Kart Wii</td>\n",
              "      <td>Wii</td>\n",
              "      <td>2008.0</td>\n",
              "      <td>Racing</td>\n",
              "      <td>Nintendo</td>\n",
              "      <td>15.68</td>\n",
              "      <td>12.76</td>\n",
              "      <td>3.79</td>\n",
              "      <td>3.29</td>\n",
              "      <td>35.52</td>\n",
              "      <td>82.0</td>\n",
              "      <td>73.0</td>\n",
              "      <td>8.3</td>\n",
              "      <td>709.0</td>\n",
              "      <td>Nintendo</td>\n",
              "      <td>E</td>\n",
              "    </tr>\n",
              "    <tr>\n",
              "      <th>3</th>\n",
              "      <td>Wii Sports Resort</td>\n",
              "      <td>Wii</td>\n",
              "      <td>2009.0</td>\n",
              "      <td>Sports</td>\n",
              "      <td>Nintendo</td>\n",
              "      <td>15.61</td>\n",
              "      <td>10.93</td>\n",
              "      <td>3.28</td>\n",
              "      <td>2.95</td>\n",
              "      <td>32.77</td>\n",
              "      <td>80.0</td>\n",
              "      <td>73.0</td>\n",
              "      <td>8</td>\n",
              "      <td>192.0</td>\n",
              "      <td>Nintendo</td>\n",
              "      <td>E</td>\n",
              "    </tr>\n",
              "    <tr>\n",
              "      <th>6</th>\n",
              "      <td>New Super Mario Bros.</td>\n",
              "      <td>DS</td>\n",
              "      <td>2006.0</td>\n",
              "      <td>Platform</td>\n",
              "      <td>Nintendo</td>\n",
              "      <td>11.28</td>\n",
              "      <td>9.14</td>\n",
              "      <td>6.50</td>\n",
              "      <td>2.88</td>\n",
              "      <td>29.80</td>\n",
              "      <td>89.0</td>\n",
              "      <td>65.0</td>\n",
              "      <td>8.5</td>\n",
              "      <td>431.0</td>\n",
              "      <td>Nintendo</td>\n",
              "      <td>E</td>\n",
              "    </tr>\n",
              "    <tr>\n",
              "      <th>7</th>\n",
              "      <td>Wii Play</td>\n",
              "      <td>Wii</td>\n",
              "      <td>2006.0</td>\n",
              "      <td>Misc</td>\n",
              "      <td>Nintendo</td>\n",
              "      <td>13.96</td>\n",
              "      <td>9.18</td>\n",
              "      <td>2.93</td>\n",
              "      <td>2.84</td>\n",
              "      <td>28.92</td>\n",
              "      <td>58.0</td>\n",
              "      <td>41.0</td>\n",
              "      <td>6.6</td>\n",
              "      <td>129.0</td>\n",
              "      <td>Nintendo</td>\n",
              "      <td>E</td>\n",
              "    </tr>\n",
              "  </tbody>\n",
              "</table>\n",
              "</div>"
            ],
            "text/plain": [
              "                    Name Platform  Year_of_release  ... User_Count Developer  Rating\n",
              "0             Wii Sports      Wii           2006.0  ...      322.0  Nintendo       E\n",
              "2         Mario Kart Wii      Wii           2008.0  ...      709.0  Nintendo       E\n",
              "3      Wii Sports Resort      Wii           2009.0  ...      192.0  Nintendo       E\n",
              "6  New Super Mario Bros.       DS           2006.0  ...      431.0  Nintendo       E\n",
              "7               Wii Play     Wii            2006.0  ...      129.0  Nintendo       E\n",
              "\n",
              "[5 rows x 16 columns]"
            ]
          },
          "metadata": {
            "tags": []
          },
          "execution_count": 8
        }
      ]
    },
    {
      "cell_type": "code",
      "metadata": {
        "colab": {
          "base_uri": "https://localhost:8080/",
          "height": 428
        },
        "id": "ZkliSLfQs_Zb",
        "outputId": "5eb367f1-441c-4983-fa72-a6ac0209eca0"
      },
      "source": [
        "vgs.tail()"
      ],
      "execution_count": null,
      "outputs": [
        {
          "output_type": "execute_result",
          "data": {
            "text/html": [
              "<div>\n",
              "<style scoped>\n",
              "    .dataframe tbody tr th:only-of-type {\n",
              "        vertical-align: middle;\n",
              "    }\n",
              "\n",
              "    .dataframe tbody tr th {\n",
              "        vertical-align: top;\n",
              "    }\n",
              "\n",
              "    .dataframe thead th {\n",
              "        text-align: right;\n",
              "    }\n",
              "</style>\n",
              "<table border=\"1\" class=\"dataframe\">\n",
              "  <thead>\n",
              "    <tr style=\"text-align: right;\">\n",
              "      <th></th>\n",
              "      <th>Name</th>\n",
              "      <th>Platform</th>\n",
              "      <th>Year_of_release</th>\n",
              "      <th>Genre</th>\n",
              "      <th>Publisher</th>\n",
              "      <th>NA_Sales</th>\n",
              "      <th>EU_Sales</th>\n",
              "      <th>JP_Sales</th>\n",
              "      <th>Other_Sales</th>\n",
              "      <th>Global_Sales</th>\n",
              "      <th>Critic_Score</th>\n",
              "      <th>Critic_Count</th>\n",
              "      <th>User_Score</th>\n",
              "      <th>User_Count</th>\n",
              "      <th>Developer</th>\n",
              "      <th>Rating</th>\n",
              "    </tr>\n",
              "  </thead>\n",
              "  <tbody>\n",
              "    <tr>\n",
              "      <th>16667</th>\n",
              "      <td>E.T. The Extra-Terrestrial</td>\n",
              "      <td>GBA</td>\n",
              "      <td>2001.0</td>\n",
              "      <td>Action</td>\n",
              "      <td>NewKidCo</td>\n",
              "      <td>0.01</td>\n",
              "      <td>0.00</td>\n",
              "      <td>0.0</td>\n",
              "      <td>0.0</td>\n",
              "      <td>0.01</td>\n",
              "      <td>46.0</td>\n",
              "      <td>4.0</td>\n",
              "      <td>2.4</td>\n",
              "      <td>21.0</td>\n",
              "      <td>Fluid Studios</td>\n",
              "      <td>E</td>\n",
              "    </tr>\n",
              "    <tr>\n",
              "      <th>16677</th>\n",
              "      <td>Mortal Kombat: Deadly Alliance</td>\n",
              "      <td>GBA</td>\n",
              "      <td>2002.0</td>\n",
              "      <td>Fighting</td>\n",
              "      <td>Midway Games</td>\n",
              "      <td>0.01</td>\n",
              "      <td>0.00</td>\n",
              "      <td>0.0</td>\n",
              "      <td>0.0</td>\n",
              "      <td>0.01</td>\n",
              "      <td>81.0</td>\n",
              "      <td>12.0</td>\n",
              "      <td>8.8</td>\n",
              "      <td>9.0</td>\n",
              "      <td>Criterion Games</td>\n",
              "      <td>M</td>\n",
              "    </tr>\n",
              "    <tr>\n",
              "      <th>16696</th>\n",
              "      <td>Metal Gear Solid V: Ground Zeroes</td>\n",
              "      <td>PC</td>\n",
              "      <td>2014.0</td>\n",
              "      <td>Action</td>\n",
              "      <td>Konami Digital Entertainment</td>\n",
              "      <td>0.00</td>\n",
              "      <td>0.01</td>\n",
              "      <td>0.0</td>\n",
              "      <td>0.0</td>\n",
              "      <td>0.01</td>\n",
              "      <td>80.0</td>\n",
              "      <td>20.0</td>\n",
              "      <td>7.6</td>\n",
              "      <td>412.0</td>\n",
              "      <td>Kojima Productions</td>\n",
              "      <td>M</td>\n",
              "    </tr>\n",
              "    <tr>\n",
              "      <th>16700</th>\n",
              "      <td>Breach</td>\n",
              "      <td>PC</td>\n",
              "      <td>2011.0</td>\n",
              "      <td>Shooter</td>\n",
              "      <td>Destineer</td>\n",
              "      <td>0.01</td>\n",
              "      <td>0.00</td>\n",
              "      <td>0.0</td>\n",
              "      <td>0.0</td>\n",
              "      <td>0.01</td>\n",
              "      <td>61.0</td>\n",
              "      <td>12.0</td>\n",
              "      <td>5.8</td>\n",
              "      <td>43.0</td>\n",
              "      <td>Atomic Games</td>\n",
              "      <td>T</td>\n",
              "    </tr>\n",
              "    <tr>\n",
              "      <th>16706</th>\n",
              "      <td>STORM: Frontline Nation</td>\n",
              "      <td>PC</td>\n",
              "      <td>2011.0</td>\n",
              "      <td>Strategy</td>\n",
              "      <td>Unknown</td>\n",
              "      <td>0.00</td>\n",
              "      <td>0.01</td>\n",
              "      <td>0.0</td>\n",
              "      <td>0.0</td>\n",
              "      <td>0.01</td>\n",
              "      <td>60.0</td>\n",
              "      <td>12.0</td>\n",
              "      <td>7.2</td>\n",
              "      <td>13.0</td>\n",
              "      <td>SimBin</td>\n",
              "      <td>E10+</td>\n",
              "    </tr>\n",
              "  </tbody>\n",
              "</table>\n",
              "</div>"
            ],
            "text/plain": [
              "                                    Name Platform  ...           Developer Rating\n",
              "16667         E.T. The Extra-Terrestrial      GBA  ...       Fluid Studios      E\n",
              "16677     Mortal Kombat: Deadly Alliance      GBA  ...     Criterion Games      M\n",
              "16696  Metal Gear Solid V: Ground Zeroes       PC  ...  Kojima Productions      M\n",
              "16700                             Breach       PC  ...        Atomic Games      T\n",
              "16706            STORM: Frontline Nation       PC  ...              SimBin   E10+\n",
              "\n",
              "[5 rows x 16 columns]"
            ]
          },
          "metadata": {
            "tags": []
          },
          "execution_count": 9
        }
      ]
    },
    {
      "cell_type": "markdown",
      "metadata": {
        "id": "_YD92tNq4J1g"
      },
      "source": [
        "Deleting unnecessary variables:\n",
        "\n",
        "* I am not going to use \"User_score\", \"User_count\", \"Critic_count\" variables in this data set. So i am dropping these variables from the data set using the **drop** function.\n",
        "\n",
        "\n",
        "*  In this function, the **axis** parameter determines whether it will be a row or a column. If we set \"axis = 1\", the column will be deleted.\n",
        "\n",
        "\n",
        "* **inplace** is set to True because it will automatically save the changes in the data set.\n",
        "\n",
        "\n",
        "\n",
        "\n"
      ]
    },
    {
      "cell_type": "code",
      "metadata": {
        "colab": {
          "base_uri": "https://localhost:8080/",
          "height": 204
        },
        "id": "4SwMfoLPObSG",
        "outputId": "e4b56e89-0807-49d9-dac1-c5809a27e400"
      },
      "source": [
        "vgs.drop([\"User_Score\",\"User_Count\",\"Critic_Count\"],axis=1,inplace=True)\n",
        "vgs.head()"
      ],
      "execution_count": null,
      "outputs": [
        {
          "output_type": "execute_result",
          "data": {
            "text/html": [
              "<div>\n",
              "<style scoped>\n",
              "    .dataframe tbody tr th:only-of-type {\n",
              "        vertical-align: middle;\n",
              "    }\n",
              "\n",
              "    .dataframe tbody tr th {\n",
              "        vertical-align: top;\n",
              "    }\n",
              "\n",
              "    .dataframe thead th {\n",
              "        text-align: right;\n",
              "    }\n",
              "</style>\n",
              "<table border=\"1\" class=\"dataframe\">\n",
              "  <thead>\n",
              "    <tr style=\"text-align: right;\">\n",
              "      <th></th>\n",
              "      <th>Name</th>\n",
              "      <th>Platform</th>\n",
              "      <th>Year_of_release</th>\n",
              "      <th>Genre</th>\n",
              "      <th>Publisher</th>\n",
              "      <th>NA_Sales</th>\n",
              "      <th>EU_Sales</th>\n",
              "      <th>JP_Sales</th>\n",
              "      <th>Other_Sales</th>\n",
              "      <th>Global_Sales</th>\n",
              "      <th>Critic_Score</th>\n",
              "      <th>Developer</th>\n",
              "      <th>Rating</th>\n",
              "    </tr>\n",
              "  </thead>\n",
              "  <tbody>\n",
              "    <tr>\n",
              "      <th>0</th>\n",
              "      <td>Wii Sports</td>\n",
              "      <td>Wii</td>\n",
              "      <td>2006.0</td>\n",
              "      <td>Sports</td>\n",
              "      <td>Nintendo</td>\n",
              "      <td>41.36</td>\n",
              "      <td>28.96</td>\n",
              "      <td>3.77</td>\n",
              "      <td>8.45</td>\n",
              "      <td>82.53</td>\n",
              "      <td>76.0</td>\n",
              "      <td>Nintendo</td>\n",
              "      <td>E</td>\n",
              "    </tr>\n",
              "    <tr>\n",
              "      <th>2</th>\n",
              "      <td>Mario Kart Wii</td>\n",
              "      <td>Wii</td>\n",
              "      <td>2008.0</td>\n",
              "      <td>Racing</td>\n",
              "      <td>Nintendo</td>\n",
              "      <td>15.68</td>\n",
              "      <td>12.76</td>\n",
              "      <td>3.79</td>\n",
              "      <td>3.29</td>\n",
              "      <td>35.52</td>\n",
              "      <td>82.0</td>\n",
              "      <td>Nintendo</td>\n",
              "      <td>E</td>\n",
              "    </tr>\n",
              "    <tr>\n",
              "      <th>3</th>\n",
              "      <td>Wii Sports Resort</td>\n",
              "      <td>Wii</td>\n",
              "      <td>2009.0</td>\n",
              "      <td>Sports</td>\n",
              "      <td>Nintendo</td>\n",
              "      <td>15.61</td>\n",
              "      <td>10.93</td>\n",
              "      <td>3.28</td>\n",
              "      <td>2.95</td>\n",
              "      <td>32.77</td>\n",
              "      <td>80.0</td>\n",
              "      <td>Nintendo</td>\n",
              "      <td>E</td>\n",
              "    </tr>\n",
              "    <tr>\n",
              "      <th>6</th>\n",
              "      <td>New Super Mario Bros.</td>\n",
              "      <td>DS</td>\n",
              "      <td>2006.0</td>\n",
              "      <td>Platform</td>\n",
              "      <td>Nintendo</td>\n",
              "      <td>11.28</td>\n",
              "      <td>9.14</td>\n",
              "      <td>6.50</td>\n",
              "      <td>2.88</td>\n",
              "      <td>29.80</td>\n",
              "      <td>89.0</td>\n",
              "      <td>Nintendo</td>\n",
              "      <td>E</td>\n",
              "    </tr>\n",
              "    <tr>\n",
              "      <th>7</th>\n",
              "      <td>Wii Play</td>\n",
              "      <td>Wii</td>\n",
              "      <td>2006.0</td>\n",
              "      <td>Misc</td>\n",
              "      <td>Nintendo</td>\n",
              "      <td>13.96</td>\n",
              "      <td>9.18</td>\n",
              "      <td>2.93</td>\n",
              "      <td>2.84</td>\n",
              "      <td>28.92</td>\n",
              "      <td>58.0</td>\n",
              "      <td>Nintendo</td>\n",
              "      <td>E</td>\n",
              "    </tr>\n",
              "  </tbody>\n",
              "</table>\n",
              "</div>"
            ],
            "text/plain": [
              "                    Name Platform  ...  Developer Rating\n",
              "0             Wii Sports      Wii  ...   Nintendo      E\n",
              "2         Mario Kart Wii      Wii  ...   Nintendo      E\n",
              "3      Wii Sports Resort      Wii  ...   Nintendo      E\n",
              "6  New Super Mario Bros.       DS  ...   Nintendo      E\n",
              "7               Wii Play     Wii   ...   Nintendo      E\n",
              "\n",
              "[5 rows x 13 columns]"
            ]
          },
          "metadata": {
            "tags": []
          },
          "execution_count": 10
        }
      ]
    },
    {
      "cell_type": "markdown",
      "metadata": {
        "id": "Jq_w-ZNNUwZE"
      },
      "source": [
        "\n",
        "* In the above output, i observed that all the numerical values are in float. \n",
        "so, now by using **astype** i changed the data type. \n",
        "\n"
      ]
    },
    {
      "cell_type": "code",
      "metadata": {
        "colab": {
          "base_uri": "https://localhost:8080/",
          "height": 204
        },
        "id": "N4tTFGrGS5_L",
        "outputId": "a7dbf87f-c84d-425d-b142-d9dbabdfb082"
      },
      "source": [
        "vgs[\"Year_of_release\"]=vgs[\"Year_of_release\"].astype(\"int\")\n",
        "vgs['Critic_Score']=vgs['Critic_Score'].astype(\"int\")\n",
        "vgs.head()"
      ],
      "execution_count": null,
      "outputs": [
        {
          "output_type": "execute_result",
          "data": {
            "text/html": [
              "<div>\n",
              "<style scoped>\n",
              "    .dataframe tbody tr th:only-of-type {\n",
              "        vertical-align: middle;\n",
              "    }\n",
              "\n",
              "    .dataframe tbody tr th {\n",
              "        vertical-align: top;\n",
              "    }\n",
              "\n",
              "    .dataframe thead th {\n",
              "        text-align: right;\n",
              "    }\n",
              "</style>\n",
              "<table border=\"1\" class=\"dataframe\">\n",
              "  <thead>\n",
              "    <tr style=\"text-align: right;\">\n",
              "      <th></th>\n",
              "      <th>Name</th>\n",
              "      <th>Platform</th>\n",
              "      <th>Year_of_release</th>\n",
              "      <th>Genre</th>\n",
              "      <th>Publisher</th>\n",
              "      <th>NA_Sales</th>\n",
              "      <th>EU_Sales</th>\n",
              "      <th>JP_Sales</th>\n",
              "      <th>Other_Sales</th>\n",
              "      <th>Global_Sales</th>\n",
              "      <th>Critic_Score</th>\n",
              "      <th>Developer</th>\n",
              "      <th>Rating</th>\n",
              "    </tr>\n",
              "  </thead>\n",
              "  <tbody>\n",
              "    <tr>\n",
              "      <th>0</th>\n",
              "      <td>Wii Sports</td>\n",
              "      <td>Wii</td>\n",
              "      <td>2006</td>\n",
              "      <td>Sports</td>\n",
              "      <td>Nintendo</td>\n",
              "      <td>41.36</td>\n",
              "      <td>28.96</td>\n",
              "      <td>3.77</td>\n",
              "      <td>8.45</td>\n",
              "      <td>82.53</td>\n",
              "      <td>76</td>\n",
              "      <td>Nintendo</td>\n",
              "      <td>E</td>\n",
              "    </tr>\n",
              "    <tr>\n",
              "      <th>2</th>\n",
              "      <td>Mario Kart Wii</td>\n",
              "      <td>Wii</td>\n",
              "      <td>2008</td>\n",
              "      <td>Racing</td>\n",
              "      <td>Nintendo</td>\n",
              "      <td>15.68</td>\n",
              "      <td>12.76</td>\n",
              "      <td>3.79</td>\n",
              "      <td>3.29</td>\n",
              "      <td>35.52</td>\n",
              "      <td>82</td>\n",
              "      <td>Nintendo</td>\n",
              "      <td>E</td>\n",
              "    </tr>\n",
              "    <tr>\n",
              "      <th>3</th>\n",
              "      <td>Wii Sports Resort</td>\n",
              "      <td>Wii</td>\n",
              "      <td>2009</td>\n",
              "      <td>Sports</td>\n",
              "      <td>Nintendo</td>\n",
              "      <td>15.61</td>\n",
              "      <td>10.93</td>\n",
              "      <td>3.28</td>\n",
              "      <td>2.95</td>\n",
              "      <td>32.77</td>\n",
              "      <td>80</td>\n",
              "      <td>Nintendo</td>\n",
              "      <td>E</td>\n",
              "    </tr>\n",
              "    <tr>\n",
              "      <th>6</th>\n",
              "      <td>New Super Mario Bros.</td>\n",
              "      <td>DS</td>\n",
              "      <td>2006</td>\n",
              "      <td>Platform</td>\n",
              "      <td>Nintendo</td>\n",
              "      <td>11.28</td>\n",
              "      <td>9.14</td>\n",
              "      <td>6.50</td>\n",
              "      <td>2.88</td>\n",
              "      <td>29.80</td>\n",
              "      <td>89</td>\n",
              "      <td>Nintendo</td>\n",
              "      <td>E</td>\n",
              "    </tr>\n",
              "    <tr>\n",
              "      <th>7</th>\n",
              "      <td>Wii Play</td>\n",
              "      <td>Wii</td>\n",
              "      <td>2006</td>\n",
              "      <td>Misc</td>\n",
              "      <td>Nintendo</td>\n",
              "      <td>13.96</td>\n",
              "      <td>9.18</td>\n",
              "      <td>2.93</td>\n",
              "      <td>2.84</td>\n",
              "      <td>28.92</td>\n",
              "      <td>58</td>\n",
              "      <td>Nintendo</td>\n",
              "      <td>E</td>\n",
              "    </tr>\n",
              "  </tbody>\n",
              "</table>\n",
              "</div>"
            ],
            "text/plain": [
              "                    Name Platform  ...  Developer Rating\n",
              "0             Wii Sports      Wii  ...   Nintendo      E\n",
              "2         Mario Kart Wii      Wii  ...   Nintendo      E\n",
              "3      Wii Sports Resort      Wii  ...   Nintendo      E\n",
              "6  New Super Mario Bros.       DS  ...   Nintendo      E\n",
              "7               Wii Play     Wii   ...   Nintendo      E\n",
              "\n",
              "[5 rows x 13 columns]"
            ]
          },
          "metadata": {
            "tags": []
          },
          "execution_count": 11
        }
      ]
    },
    {
      "cell_type": "markdown",
      "metadata": {
        "id": "7E1aGop9Tf17"
      },
      "source": [
        "#Explore Numerical features"
      ]
    },
    {
      "cell_type": "markdown",
      "metadata": {
        "id": "mpEC973xuBmA"
      },
      "source": [
        "* Here i created a new variable named Sale_features and assigned all the sales columns to it."
      ]
    },
    {
      "cell_type": "code",
      "metadata": {
        "id": "vFHKXOocVyoR"
      },
      "source": [
        "Sale_features = ['NA_Sales','EU_Sales','JP_Sales','Other_Sales','Global_Sales']\n",
        "\n",
        "Numerical_features = ['Critic_Score'] + Sale_features"
      ],
      "execution_count": null,
      "outputs": []
    },
    {
      "cell_type": "code",
      "metadata": {
        "colab": {
          "base_uri": "https://localhost:8080/"
        },
        "id": "wYSKwkUHrqy2",
        "outputId": "856e45f4-f519-4350-a386-b71eb453414b"
      },
      "source": [
        "Numerical_features"
      ],
      "execution_count": null,
      "outputs": [
        {
          "output_type": "execute_result",
          "data": {
            "text/plain": [
              "['Critic_Score',\n",
              " 'NA_Sales',\n",
              " 'EU_Sales',\n",
              " 'JP_Sales',\n",
              " 'Other_Sales',\n",
              " 'Global_Sales']"
            ]
          },
          "metadata": {
            "tags": []
          },
          "execution_count": 13
        }
      ]
    },
    {
      "cell_type": "markdown",
      "metadata": {
        "id": "T3uMyNDvB9nc"
      },
      "source": [
        "* **describe()** gives us a statistical overview of columns containing numerical values."
      ]
    },
    {
      "cell_type": "code",
      "metadata": {
        "colab": {
          "base_uri": "https://localhost:8080/",
          "height": 297
        },
        "id": "M9RsCD1QZ1Cj",
        "outputId": "99edb668-a7de-422e-ebc1-8fed15e7d24c"
      },
      "source": [
        "vgs[Numerical_features].describe()"
      ],
      "execution_count": null,
      "outputs": [
        {
          "output_type": "execute_result",
          "data": {
            "text/html": [
              "<div>\n",
              "<style scoped>\n",
              "    .dataframe tbody tr th:only-of-type {\n",
              "        vertical-align: middle;\n",
              "    }\n",
              "\n",
              "    .dataframe tbody tr th {\n",
              "        vertical-align: top;\n",
              "    }\n",
              "\n",
              "    .dataframe thead th {\n",
              "        text-align: right;\n",
              "    }\n",
              "</style>\n",
              "<table border=\"1\" class=\"dataframe\">\n",
              "  <thead>\n",
              "    <tr style=\"text-align: right;\">\n",
              "      <th></th>\n",
              "      <th>Critic_Score</th>\n",
              "      <th>NA_Sales</th>\n",
              "      <th>EU_Sales</th>\n",
              "      <th>JP_Sales</th>\n",
              "      <th>Other_Sales</th>\n",
              "      <th>Global_Sales</th>\n",
              "    </tr>\n",
              "  </thead>\n",
              "  <tbody>\n",
              "    <tr>\n",
              "      <th>count</th>\n",
              "      <td>6825.000000</td>\n",
              "      <td>6825.000000</td>\n",
              "      <td>6825.000000</td>\n",
              "      <td>6825.000000</td>\n",
              "      <td>6825.000000</td>\n",
              "      <td>6825.000000</td>\n",
              "    </tr>\n",
              "    <tr>\n",
              "      <th>mean</th>\n",
              "      <td>70.272088</td>\n",
              "      <td>0.394484</td>\n",
              "      <td>0.236089</td>\n",
              "      <td>0.064158</td>\n",
              "      <td>0.082677</td>\n",
              "      <td>0.777590</td>\n",
              "    </tr>\n",
              "    <tr>\n",
              "      <th>std</th>\n",
              "      <td>13.868572</td>\n",
              "      <td>0.967385</td>\n",
              "      <td>0.687330</td>\n",
              "      <td>0.287570</td>\n",
              "      <td>0.269871</td>\n",
              "      <td>1.963443</td>\n",
              "    </tr>\n",
              "    <tr>\n",
              "      <th>min</th>\n",
              "      <td>13.000000</td>\n",
              "      <td>0.000000</td>\n",
              "      <td>0.000000</td>\n",
              "      <td>0.000000</td>\n",
              "      <td>0.000000</td>\n",
              "      <td>0.010000</td>\n",
              "    </tr>\n",
              "    <tr>\n",
              "      <th>25%</th>\n",
              "      <td>62.000000</td>\n",
              "      <td>0.060000</td>\n",
              "      <td>0.020000</td>\n",
              "      <td>0.000000</td>\n",
              "      <td>0.010000</td>\n",
              "      <td>0.110000</td>\n",
              "    </tr>\n",
              "    <tr>\n",
              "      <th>50%</th>\n",
              "      <td>72.000000</td>\n",
              "      <td>0.150000</td>\n",
              "      <td>0.060000</td>\n",
              "      <td>0.000000</td>\n",
              "      <td>0.020000</td>\n",
              "      <td>0.290000</td>\n",
              "    </tr>\n",
              "    <tr>\n",
              "      <th>75%</th>\n",
              "      <td>80.000000</td>\n",
              "      <td>0.390000</td>\n",
              "      <td>0.210000</td>\n",
              "      <td>0.010000</td>\n",
              "      <td>0.070000</td>\n",
              "      <td>0.750000</td>\n",
              "    </tr>\n",
              "    <tr>\n",
              "      <th>max</th>\n",
              "      <td>98.000000</td>\n",
              "      <td>41.360000</td>\n",
              "      <td>28.960000</td>\n",
              "      <td>6.500000</td>\n",
              "      <td>10.570000</td>\n",
              "      <td>82.530000</td>\n",
              "    </tr>\n",
              "  </tbody>\n",
              "</table>\n",
              "</div>"
            ],
            "text/plain": [
              "       Critic_Score     NA_Sales  ...  Other_Sales  Global_Sales\n",
              "count   6825.000000  6825.000000  ...  6825.000000   6825.000000\n",
              "mean      70.272088     0.394484  ...     0.082677      0.777590\n",
              "std       13.868572     0.967385  ...     0.269871      1.963443\n",
              "min       13.000000     0.000000  ...     0.000000      0.010000\n",
              "25%       62.000000     0.060000  ...     0.010000      0.110000\n",
              "50%       72.000000     0.150000  ...     0.020000      0.290000\n",
              "75%       80.000000     0.390000  ...     0.070000      0.750000\n",
              "max       98.000000    41.360000  ...    10.570000     82.530000\n",
              "\n",
              "[8 rows x 6 columns]"
            ]
          },
          "metadata": {
            "tags": []
          },
          "execution_count": 14
        }
      ]
    },
    {
      "cell_type": "code",
      "metadata": {
        "colab": {
          "base_uri": "https://localhost:8080/",
          "height": 297
        },
        "id": "YJVn1nOwbLBr",
        "outputId": "1328ae22-c8ed-4d63-ee1f-81d5ebc9285f"
      },
      "source": [
        "vgs[Numerical_features].describe().round()"
      ],
      "execution_count": null,
      "outputs": [
        {
          "output_type": "execute_result",
          "data": {
            "text/html": [
              "<div>\n",
              "<style scoped>\n",
              "    .dataframe tbody tr th:only-of-type {\n",
              "        vertical-align: middle;\n",
              "    }\n",
              "\n",
              "    .dataframe tbody tr th {\n",
              "        vertical-align: top;\n",
              "    }\n",
              "\n",
              "    .dataframe thead th {\n",
              "        text-align: right;\n",
              "    }\n",
              "</style>\n",
              "<table border=\"1\" class=\"dataframe\">\n",
              "  <thead>\n",
              "    <tr style=\"text-align: right;\">\n",
              "      <th></th>\n",
              "      <th>Critic_Score</th>\n",
              "      <th>NA_Sales</th>\n",
              "      <th>EU_Sales</th>\n",
              "      <th>JP_Sales</th>\n",
              "      <th>Other_Sales</th>\n",
              "      <th>Global_Sales</th>\n",
              "    </tr>\n",
              "  </thead>\n",
              "  <tbody>\n",
              "    <tr>\n",
              "      <th>count</th>\n",
              "      <td>6825.0</td>\n",
              "      <td>6825.0</td>\n",
              "      <td>6825.0</td>\n",
              "      <td>6825.0</td>\n",
              "      <td>6825.0</td>\n",
              "      <td>6825.0</td>\n",
              "    </tr>\n",
              "    <tr>\n",
              "      <th>mean</th>\n",
              "      <td>70.0</td>\n",
              "      <td>0.0</td>\n",
              "      <td>0.0</td>\n",
              "      <td>0.0</td>\n",
              "      <td>0.0</td>\n",
              "      <td>1.0</td>\n",
              "    </tr>\n",
              "    <tr>\n",
              "      <th>std</th>\n",
              "      <td>14.0</td>\n",
              "      <td>1.0</td>\n",
              "      <td>1.0</td>\n",
              "      <td>0.0</td>\n",
              "      <td>0.0</td>\n",
              "      <td>2.0</td>\n",
              "    </tr>\n",
              "    <tr>\n",
              "      <th>min</th>\n",
              "      <td>13.0</td>\n",
              "      <td>0.0</td>\n",
              "      <td>0.0</td>\n",
              "      <td>0.0</td>\n",
              "      <td>0.0</td>\n",
              "      <td>0.0</td>\n",
              "    </tr>\n",
              "    <tr>\n",
              "      <th>25%</th>\n",
              "      <td>62.0</td>\n",
              "      <td>0.0</td>\n",
              "      <td>0.0</td>\n",
              "      <td>0.0</td>\n",
              "      <td>0.0</td>\n",
              "      <td>0.0</td>\n",
              "    </tr>\n",
              "    <tr>\n",
              "      <th>50%</th>\n",
              "      <td>72.0</td>\n",
              "      <td>0.0</td>\n",
              "      <td>0.0</td>\n",
              "      <td>0.0</td>\n",
              "      <td>0.0</td>\n",
              "      <td>0.0</td>\n",
              "    </tr>\n",
              "    <tr>\n",
              "      <th>75%</th>\n",
              "      <td>80.0</td>\n",
              "      <td>0.0</td>\n",
              "      <td>0.0</td>\n",
              "      <td>0.0</td>\n",
              "      <td>0.0</td>\n",
              "      <td>1.0</td>\n",
              "    </tr>\n",
              "    <tr>\n",
              "      <th>max</th>\n",
              "      <td>98.0</td>\n",
              "      <td>41.0</td>\n",
              "      <td>29.0</td>\n",
              "      <td>6.0</td>\n",
              "      <td>11.0</td>\n",
              "      <td>83.0</td>\n",
              "    </tr>\n",
              "  </tbody>\n",
              "</table>\n",
              "</div>"
            ],
            "text/plain": [
              "       Critic_Score  NA_Sales  EU_Sales  JP_Sales  Other_Sales  Global_Sales\n",
              "count        6825.0    6825.0    6825.0    6825.0       6825.0        6825.0\n",
              "mean           70.0       0.0       0.0       0.0          0.0           1.0\n",
              "std            14.0       1.0       1.0       0.0          0.0           2.0\n",
              "min            13.0       0.0       0.0       0.0          0.0           0.0\n",
              "25%            62.0       0.0       0.0       0.0          0.0           0.0\n",
              "50%            72.0       0.0       0.0       0.0          0.0           0.0\n",
              "75%            80.0       0.0       0.0       0.0          0.0           1.0\n",
              "max            98.0      41.0      29.0       6.0         11.0          83.0"
            ]
          },
          "metadata": {
            "tags": []
          },
          "execution_count": 15
        }
      ]
    },
    {
      "cell_type": "markdown",
      "metadata": {
        "id": "bEFdUvh3CMEq"
      },
      "source": [
        "* Calculated the mean for Global sales."
      ]
    },
    {
      "cell_type": "code",
      "metadata": {
        "colab": {
          "base_uri": "https://localhost:8080/"
        },
        "id": "lbCLwxVFPbad",
        "outputId": "5eefe2f1-3d26-44eb-dea4-a8a876c08ada"
      },
      "source": [
        "vgs['Global_Sales'].mean()"
      ],
      "execution_count": null,
      "outputs": [
        {
          "output_type": "execute_result",
          "data": {
            "text/plain": [
              "0.777589743589759"
            ]
          },
          "metadata": {
            "tags": []
          },
          "execution_count": 16
        }
      ]
    },
    {
      "cell_type": "markdown",
      "metadata": {
        "id": "PEQC_D7Qb2Rm"
      },
      "source": [
        "\n",
        "*   Calculated the sum of sales for Ubisoft and Electronic Arts.\n",
        "*   Looks like Electronic Arts dominates over Ubisoft in all the regions in terms of sales.\n",
        "\n",
        "\n"
      ]
    },
    {
      "cell_type": "code",
      "metadata": {
        "id": "wpsZPmhsUxU6"
      },
      "source": [
        "UB= (vgs['Publisher']=='Ubisoft')\n",
        "EA = (vgs['Publisher']=='Electronic Arts')"
      ],
      "execution_count": null,
      "outputs": []
    },
    {
      "cell_type": "code",
      "metadata": {
        "colab": {
          "base_uri": "https://localhost:8080/"
        },
        "id": "EcyLJBXbYjQU",
        "outputId": "b49a4b65-6e97-4512-9cdc-ca35dcb77b47"
      },
      "source": [
        "print(vgs['JP_Sales'][UB].sum())\n",
        "print(vgs['EU_Sales'][UB].sum())\n",
        "print(vgs['NA_Sales'][UB].sum())\n",
        "print(vgs['Other_Sales'][UB].sum())\n",
        "print(vgs['Global_Sales'][UB].sum())\n"
      ],
      "execution_count": null,
      "outputs": [
        {
          "output_type": "stream",
          "text": [
            "6.41\n",
            "121.28000000000002\n",
            "174.92\n",
            "37.589999999999996\n",
            "340.23\n"
          ],
          "name": "stdout"
        }
      ]
    },
    {
      "cell_type": "code",
      "metadata": {
        "colab": {
          "base_uri": "https://localhost:8080/"
        },
        "id": "f5Hiox1_aL1Q",
        "outputId": "a4b95ed2-751f-451e-c228-7d95c4702dac"
      },
      "source": [
        "print(vgs['JP_Sales'][EA].sum())\n",
        "print(vgs['EU_Sales'][EA].sum())\n",
        "print(vgs['NA_Sales'][EA].sum())\n",
        "print(vgs['Other_Sales'][EA].sum())\n",
        "print(vgs['Global_Sales'][EA].sum())"
      ],
      "execution_count": null,
      "outputs": [
        {
          "output_type": "stream",
          "text": [
            "10.85\n",
            "289.24\n",
            "465.45000000000005\n",
            "102.92\n",
            "868.5500000000001\n"
          ],
          "name": "stdout"
        }
      ]
    },
    {
      "cell_type": "markdown",
      "metadata": {
        "id": "iMy9Dbn2ec5k"
      },
      "source": [
        "Below were the top 4 games according to the critic score."
      ]
    },
    {
      "cell_type": "code",
      "metadata": {
        "colab": {
          "base_uri": "https://localhost:8080/"
        },
        "id": "8z_0Myi8cZxH",
        "outputId": "f0e3624c-c046-45a7-9df5-7f2a37f643d0"
      },
      "source": [
        "filter = (vgs['Critic_Score'] == vgs['Critic_Score'].max())\n",
        "vgs['Name'][filter]"
      ],
      "execution_count": null,
      "outputs": [
        {
          "output_type": "execute_result",
          "data": {
            "text/plain": [
              "51           Grand Theft Auto IV\n",
              "57           Grand Theft Auto IV\n",
              "227     Tony Hawk's Pro Skater 2\n",
              "5350                 SoulCalibur\n",
              "Name: Name, dtype: object"
            ]
          },
          "metadata": {
            "tags": []
          },
          "execution_count": 20
        }
      ]
    },
    {
      "cell_type": "markdown",
      "metadata": {
        "id": "1-CHg_dPSEbB"
      },
      "source": [
        "* calculated which game has more sales according to the data.\n",
        "* Looks like wii Sports game rules the market in global sales."
      ]
    },
    {
      "cell_type": "code",
      "metadata": {
        "colab": {
          "base_uri": "https://localhost:8080/"
        },
        "id": "oaTy_sYdRK5Z",
        "outputId": "b4f68b99-b137-4a7a-a104-916c4db327f7"
      },
      "source": [
        "filter1 = (vgs['Global_Sales']==vgs['Global_Sales'].max())\n",
        "vgs['Name'][filter1]"
      ],
      "execution_count": null,
      "outputs": [
        {
          "output_type": "execute_result",
          "data": {
            "text/plain": [
              "0    Wii Sports\n",
              "Name: Name, dtype: object"
            ]
          },
          "metadata": {
            "tags": []
          },
          "execution_count": 21
        }
      ]
    },
    {
      "cell_type": "markdown",
      "metadata": {
        "id": "WhnAhpvLgAOZ"
      },
      "source": [
        "Minimum sales in each year\n",
        "\n",
        "\n",
        "\n",
        "\n"
      ]
    },
    {
      "cell_type": "code",
      "metadata": {
        "colab": {
          "base_uri": "https://localhost:8080/",
          "height": 909
        },
        "id": "ljHUG9mo74ds",
        "outputId": "9608c103-eb33-4ebe-f756-ff3bd1929941"
      },
      "source": [
        "release_sales=vgs.groupby(\"Year_of_release\")[\"Global_Sales\",\"Name\"].min()\n",
        "release_sales"
      ],
      "execution_count": null,
      "outputs": [
        {
          "output_type": "stream",
          "text": [
            "/usr/local/lib/python3.6/dist-packages/ipykernel_launcher.py:1: FutureWarning: Indexing with multiple keys (implicitly converted to a tuple of keys) will be deprecated, use a list instead.\n",
            "  \"\"\"Entry point for launching an IPython kernel.\n"
          ],
          "name": "stderr"
        },
        {
          "output_type": "execute_result",
          "data": {
            "text/html": [
              "<div>\n",
              "<style scoped>\n",
              "    .dataframe tbody tr th:only-of-type {\n",
              "        vertical-align: middle;\n",
              "    }\n",
              "\n",
              "    .dataframe tbody tr th {\n",
              "        vertical-align: top;\n",
              "    }\n",
              "\n",
              "    .dataframe thead th {\n",
              "        text-align: right;\n",
              "    }\n",
              "</style>\n",
              "<table border=\"1\" class=\"dataframe\">\n",
              "  <thead>\n",
              "    <tr style=\"text-align: right;\">\n",
              "      <th></th>\n",
              "      <th>Global_Sales</th>\n",
              "      <th>Name</th>\n",
              "    </tr>\n",
              "    <tr>\n",
              "      <th>Year_of_release</th>\n",
              "      <th></th>\n",
              "      <th></th>\n",
              "    </tr>\n",
              "  </thead>\n",
              "  <tbody>\n",
              "    <tr>\n",
              "      <th>1985</th>\n",
              "      <td>0.03</td>\n",
              "      <td>Alter Ego</td>\n",
              "    </tr>\n",
              "    <tr>\n",
              "      <th>1988</th>\n",
              "      <td>0.03</td>\n",
              "      <td>SimCity</td>\n",
              "    </tr>\n",
              "    <tr>\n",
              "      <th>1992</th>\n",
              "      <td>0.03</td>\n",
              "      <td>Doom</td>\n",
              "    </tr>\n",
              "    <tr>\n",
              "      <th>1994</th>\n",
              "      <td>1.27</td>\n",
              "      <td>Battle Arena Toshinden</td>\n",
              "    </tr>\n",
              "    <tr>\n",
              "      <th>1996</th>\n",
              "      <td>0.14</td>\n",
              "      <td>Diablo</td>\n",
              "    </tr>\n",
              "    <tr>\n",
              "      <th>1997</th>\n",
              "      <td>0.07</td>\n",
              "      <td>Ace Combat 2</td>\n",
              "    </tr>\n",
              "    <tr>\n",
              "      <th>1998</th>\n",
              "      <td>0.02</td>\n",
              "      <td>Bomberman Party Edition</td>\n",
              "    </tr>\n",
              "    <tr>\n",
              "      <th>1999</th>\n",
              "      <td>0.02</td>\n",
              "      <td>Age of Empires II: The Age of Kings</td>\n",
              "    </tr>\n",
              "    <tr>\n",
              "      <th>2000</th>\n",
              "      <td>0.01</td>\n",
              "      <td>007 Racing</td>\n",
              "    </tr>\n",
              "    <tr>\n",
              "      <th>2001</th>\n",
              "      <td>0.01</td>\n",
              "      <td>18 Wheeler: American Pro Trucker</td>\n",
              "    </tr>\n",
              "    <tr>\n",
              "      <th>2002</th>\n",
              "      <td>0.01</td>\n",
              "      <td>.hack//Infection Part 1</td>\n",
              "    </tr>\n",
              "    <tr>\n",
              "      <th>2003</th>\n",
              "      <td>0.01</td>\n",
              "      <td>ATV Quad Power Racing 2</td>\n",
              "    </tr>\n",
              "    <tr>\n",
              "      <th>2004</th>\n",
              "      <td>0.01</td>\n",
              "      <td>ATV Offroad Fury 3</td>\n",
              "    </tr>\n",
              "    <tr>\n",
              "      <th>2005</th>\n",
              "      <td>0.01</td>\n",
              "      <td>187: Ride or Die</td>\n",
              "    </tr>\n",
              "    <tr>\n",
              "      <th>2006</th>\n",
              "      <td>0.01</td>\n",
              "      <td>1701 A.D.</td>\n",
              "    </tr>\n",
              "    <tr>\n",
              "      <th>2007</th>\n",
              "      <td>0.01</td>\n",
              "      <td>300: March to Glory</td>\n",
              "    </tr>\n",
              "    <tr>\n",
              "      <th>2008</th>\n",
              "      <td>0.01</td>\n",
              "      <td>007: Quantum of Solace</td>\n",
              "    </tr>\n",
              "    <tr>\n",
              "      <th>2009</th>\n",
              "      <td>0.01</td>\n",
              "      <td>3D Dot Game Heroes</td>\n",
              "    </tr>\n",
              "    <tr>\n",
              "      <th>2010</th>\n",
              "      <td>0.01</td>\n",
              "      <td>2010 FIFA World Cup South Africa</td>\n",
              "    </tr>\n",
              "    <tr>\n",
              "      <th>2011</th>\n",
              "      <td>0.01</td>\n",
              "      <td>APB Reloaded</td>\n",
              "    </tr>\n",
              "    <tr>\n",
              "      <th>2012</th>\n",
              "      <td>0.01</td>\n",
              "      <td>Alan Wake</td>\n",
              "    </tr>\n",
              "    <tr>\n",
              "      <th>2013</th>\n",
              "      <td>0.01</td>\n",
              "      <td>Aliens: Colonial Marines</td>\n",
              "    </tr>\n",
              "    <tr>\n",
              "      <th>2014</th>\n",
              "      <td>0.01</td>\n",
              "      <td>2014 FIFA World Cup Brazil</td>\n",
              "    </tr>\n",
              "    <tr>\n",
              "      <th>2015</th>\n",
              "      <td>0.01</td>\n",
              "      <td>7th Dragon III Code: VFD</td>\n",
              "    </tr>\n",
              "    <tr>\n",
              "      <th>2016</th>\n",
              "      <td>0.01</td>\n",
              "      <td>7 Days to Die</td>\n",
              "    </tr>\n",
              "  </tbody>\n",
              "</table>\n",
              "</div>"
            ],
            "text/plain": [
              "                 Global_Sales                                 Name\n",
              "Year_of_release                                                   \n",
              "1985                     0.03                            Alter Ego\n",
              "1988                     0.03                              SimCity\n",
              "1992                     0.03                                 Doom\n",
              "1994                     1.27               Battle Arena Toshinden\n",
              "1996                     0.14                               Diablo\n",
              "1997                     0.07                         Ace Combat 2\n",
              "1998                     0.02              Bomberman Party Edition\n",
              "1999                     0.02  Age of Empires II: The Age of Kings\n",
              "2000                     0.01                           007 Racing\n",
              "2001                     0.01     18 Wheeler: American Pro Trucker\n",
              "2002                     0.01              .hack//Infection Part 1\n",
              "2003                     0.01              ATV Quad Power Racing 2\n",
              "2004                     0.01                   ATV Offroad Fury 3\n",
              "2005                     0.01                     187: Ride or Die\n",
              "2006                     0.01                            1701 A.D.\n",
              "2007                     0.01                  300: March to Glory\n",
              "2008                     0.01               007: Quantum of Solace\n",
              "2009                     0.01                   3D Dot Game Heroes\n",
              "2010                     0.01     2010 FIFA World Cup South Africa\n",
              "2011                     0.01                         APB Reloaded\n",
              "2012                     0.01                            Alan Wake\n",
              "2013                     0.01             Aliens: Colonial Marines\n",
              "2014                     0.01           2014 FIFA World Cup Brazil\n",
              "2015                     0.01             7th Dragon III Code: VFD\n",
              "2016                     0.01                        7 Days to Die"
            ]
          },
          "metadata": {
            "tags": []
          },
          "execution_count": 22
        }
      ]
    },
    {
      "cell_type": "markdown",
      "metadata": {
        "id": "u-WcM_YLx-vt"
      },
      "source": [
        "* Pearson correlation coefficient\n",
        "\n",
        "* NA_Sales and EU_Sales has strong positive correlationship"
      ]
    },
    {
      "cell_type": "code",
      "metadata": {
        "colab": {
          "base_uri": "https://localhost:8080/"
        },
        "id": "o2nNRcrWxxFI",
        "outputId": "756d9c49-deeb-465c-ade1-2681e0e32f29"
      },
      "source": [
        "NA_Sales= vgs['NA_Sales']\n",
        "JP_Sales= vgs['JP_Sales']\n",
        "EU_Sales= vgs['EU_Sales']\n",
        "Other_Sales=vgs['Other_Sales']\n",
        "\n",
        "pearsonr_coefficient,p_value=pearsonr(NA_Sales,JP_Sales)\n",
        "print('pearsonr Correlation coefficient%0.3f'% (pearsonr_coefficient))"
      ],
      "execution_count": null,
      "outputs": [
        {
          "output_type": "stream",
          "text": [
            "pearsonr Correlation coefficient0.469\n"
          ],
          "name": "stdout"
        }
      ]
    },
    {
      "cell_type": "code",
      "metadata": {
        "colab": {
          "base_uri": "https://localhost:8080/"
        },
        "id": "zsgq_Ax5xzxj",
        "outputId": "887e096e-323a-43a8-fb58-a167443d134f"
      },
      "source": [
        "pearsonr_coefficient,p_value=pearsonr(NA_Sales,EU_Sales)\n",
        "print('pearsonr Correlation coefficient%0.3f'% (pearsonr_coefficient))"
      ],
      "execution_count": null,
      "outputs": [
        {
          "output_type": "stream",
          "text": [
            "pearsonr Correlation coefficient0.842\n"
          ],
          "name": "stdout"
        }
      ]
    },
    {
      "cell_type": "code",
      "metadata": {
        "colab": {
          "base_uri": "https://localhost:8080/"
        },
        "id": "JGQ6xMolx50D",
        "outputId": "f6c539b0-2ae7-4a56-dfeb-616439609a41"
      },
      "source": [
        "pearsonr_coefficient,p_value=pearsonr(NA_Sales,Other_Sales)\n",
        "print('pearsonr Correlation coefficient%0.3f'% (pearsonr_coefficient))"
      ],
      "execution_count": null,
      "outputs": [
        {
          "output_type": "stream",
          "text": [
            "pearsonr Correlation coefficient0.727\n"
          ],
          "name": "stdout"
        }
      ]
    },
    {
      "cell_type": "markdown",
      "metadata": {
        "id": "Py7EPpQvcuIH"
      },
      "source": [
        "# Low variance features"
      ]
    },
    {
      "cell_type": "markdown",
      "metadata": {
        "id": "FM-e2k4Vc_yn"
      },
      "source": [
        "* Developer doesn't make much difference in sales."
      ]
    },
    {
      "cell_type": "code",
      "metadata": {
        "colab": {
          "base_uri": "https://localhost:8080/"
        },
        "id": "Xgyy0X1Tcl7A",
        "outputId": "18fa92b5-3775-4a82-f864-8358551685f4"
      },
      "source": [
        "vgs['Developer'].value_counts()"
      ],
      "execution_count": null,
      "outputs": [
        {
          "output_type": "execute_result",
          "data": {
            "text/plain": [
              "EA Canada             149\n",
              "EA Sports             142\n",
              "Capcom                126\n",
              "Ubisoft               103\n",
              "Konami                 95\n",
              "                     ... \n",
              "Tomy Corporation        1\n",
              "Empire Interactive      1\n",
              "ImaginEngine            1\n",
              "Crafts & Meister        1\n",
              "TDK Mediactive          1\n",
              "Name: Developer, Length: 1289, dtype: int64"
            ]
          },
          "metadata": {
            "tags": []
          },
          "execution_count": 26
        }
      ]
    },
    {
      "cell_type": "markdown",
      "metadata": {
        "id": "PmkOgYe0GNxS"
      },
      "source": [
        "#A brief introduction to Quantitative Feature Engineering"
      ]
    },
    {
      "cell_type": "markdown",
      "metadata": {
        "id": "XaEuCQnJhAUS"
      },
      "source": [
        "It is clear from the output that Electronic Arts publishes more video games."
      ]
    },
    {
      "cell_type": "code",
      "metadata": {
        "colab": {
          "base_uri": "https://localhost:8080/",
          "height": 359
        },
        "id": "sTke6gdMumyh",
        "outputId": "7a1b5405-add1-4b84-dbc9-eed37a7cf5c2"
      },
      "source": [
        "publishers=pd.DataFrame(vgs.Publisher.value_counts()) \n",
        "publishers.head(10)"
      ],
      "execution_count": null,
      "outputs": [
        {
          "output_type": "execute_result",
          "data": {
            "text/html": [
              "<div>\n",
              "<style scoped>\n",
              "    .dataframe tbody tr th:only-of-type {\n",
              "        vertical-align: middle;\n",
              "    }\n",
              "\n",
              "    .dataframe tbody tr th {\n",
              "        vertical-align: top;\n",
              "    }\n",
              "\n",
              "    .dataframe thead th {\n",
              "        text-align: right;\n",
              "    }\n",
              "</style>\n",
              "<table border=\"1\" class=\"dataframe\">\n",
              "  <thead>\n",
              "    <tr style=\"text-align: right;\">\n",
              "      <th></th>\n",
              "      <th>Publisher</th>\n",
              "    </tr>\n",
              "  </thead>\n",
              "  <tbody>\n",
              "    <tr>\n",
              "      <th>Electronic Arts</th>\n",
              "      <td>944</td>\n",
              "    </tr>\n",
              "    <tr>\n",
              "      <th>Ubisoft</th>\n",
              "      <td>496</td>\n",
              "    </tr>\n",
              "    <tr>\n",
              "      <th>Activision</th>\n",
              "      <td>492</td>\n",
              "    </tr>\n",
              "    <tr>\n",
              "      <th>Sony Computer Entertainment</th>\n",
              "      <td>316</td>\n",
              "    </tr>\n",
              "    <tr>\n",
              "      <th>THQ</th>\n",
              "      <td>307</td>\n",
              "    </tr>\n",
              "    <tr>\n",
              "      <th>Nintendo</th>\n",
              "      <td>291</td>\n",
              "    </tr>\n",
              "    <tr>\n",
              "      <th>Sega</th>\n",
              "      <td>284</td>\n",
              "    </tr>\n",
              "    <tr>\n",
              "      <th>Take-Two Interactive</th>\n",
              "      <td>273</td>\n",
              "    </tr>\n",
              "    <tr>\n",
              "      <th>Konami Digital Entertainment</th>\n",
              "      <td>244</td>\n",
              "    </tr>\n",
              "    <tr>\n",
              "      <th>Namco Bandai Games</th>\n",
              "      <td>239</td>\n",
              "    </tr>\n",
              "  </tbody>\n",
              "</table>\n",
              "</div>"
            ],
            "text/plain": [
              "                              Publisher\n",
              "Electronic Arts                     944\n",
              "Ubisoft                             496\n",
              "Activision                          492\n",
              "Sony Computer Entertainment         316\n",
              "THQ                                 307\n",
              "Nintendo                            291\n",
              "Sega                                284\n",
              "Take-Two Interactive                273\n",
              "Konami Digital Entertainment        244\n",
              "Namco Bandai Games                  239"
            ]
          },
          "metadata": {
            "tags": []
          },
          "execution_count": 27
        }
      ]
    },
    {
      "cell_type": "markdown",
      "metadata": {
        "id": "Kyd-Yah_b-Gj"
      },
      "source": [
        "# Graphical proportion"
      ]
    },
    {
      "cell_type": "markdown",
      "metadata": {
        "id": "7_vKF9QucGvs"
      },
      "source": [
        "#Count plots using seaborn\n"
      ]
    },
    {
      "cell_type": "markdown",
      "metadata": {
        "id": "egMCmoSthjHx"
      },
      "source": [
        "This output shows Action catogery games are highly developed."
      ]
    },
    {
      "cell_type": "code",
      "metadata": {
        "colab": {
          "base_uri": "https://localhost:8080/",
          "height": 421
        },
        "id": "5i_EbUfrWI2R",
        "outputId": "e91eba7a-38e1-4c37-f7ee-80044ce89a4a"
      },
      "source": [
        "plt.figure(figsize=(15,6))\n",
        "sns.countplot(data=vgs,x=\"Genre\",order=vgs.Genre.value_counts().index, palette=\"Set2_r\",edgecolor=\"black\")\n",
        "plt.ylabel(\"Game count\")\n",
        "plt.title(\"Games count by Genre \")\n"
      ],
      "execution_count": null,
      "outputs": [
        {
          "output_type": "execute_result",
          "data": {
            "text/plain": [
              "Text(0.5, 1.0, 'Games count by Genre ')"
            ]
          },
          "metadata": {
            "tags": []
          },
          "execution_count": 28
        },
        {
          "output_type": "display_data",
          "data": {
            "image/png": "[encoded data removed]",
            "text/plain": [
              "<Figure size 1080x432 with 1 Axes>"
            ]
          },
          "metadata": {
            "tags": [],
            "needs_background": "light"
          }
        }
      ]
    },
    {
      "cell_type": "markdown",
      "metadata": {
        "id": "9H5UEs-v92Vu"
      },
      "source": [
        "*   Below code is useful to findout how many games belongs to each rating category.\n",
        "*   By looking at the output it is clear that there are more teenager games.\n",
        "\n",
        "\n"
      ]
    },
    {
      "cell_type": "code",
      "metadata": {
        "colab": {
          "base_uri": "https://localhost:8080/",
          "height": 427
        },
        "id": "R2Hw4Uc8afIY",
        "outputId": "de5ce588-22b3-4087-9d2d-42f3576e2199"
      },
      "source": [
        "sns.set_theme(style=\"darkgrid\")\n",
        "plt.figure(figsize=(15,6))\n",
        "sns.countplot(data=vgs,x=\"Rating\",order=vgs.Rating.value_counts().index, palette=\"Set1_r\",edgecolor=\"black\")\n",
        "plt.title(\"ESRB Ratings\")\n",
        "plt.ylabel(\"Game count\")"
      ],
      "execution_count": null,
      "outputs": [
        {
          "output_type": "execute_result",
          "data": {
            "text/plain": [
              "Text(0, 0.5, 'Game count')"
            ]
          },
          "metadata": {
            "tags": []
          },
          "execution_count": 29
        },
        {
          "output_type": "display_data",
          "data": {
            "image/png": "[encoded data removed]",
            "text/plain": [
              "<Figure size 1080x432 with 1 Axes>"
            ]
          },
          "metadata": {
            "tags": []
          }
        }
      ]
    },
    {
      "cell_type": "markdown",
      "metadata": {
        "id": "7unJ_h8wtVvz"
      },
      "source": [
        "#Barplots using seaborn"
      ]
    },
    {
      "cell_type": "markdown",
      "metadata": {
        "id": "ibGk1189152_"
      },
      "source": [
        "* Below code is helpful to findout how many games were running in each platform.\n",
        "\n",
        "* Looks like more games are running in Wii console."
      ]
    },
    {
      "cell_type": "code",
      "metadata": {
        "colab": {
          "base_uri": "https://localhost:8080/",
          "height": 410
        },
        "id": "Uu-V0HE4DP8v",
        "outputId": "0d46f734-8357-49da-eeaa-71fe6f033870"
      },
      "source": [
        "x=vgs.Platform.unique()\n",
        "y=vgs.Platform.value_counts()\n",
        "plt.figure(figsize=(15,6))\n",
        "sns.barplot(x=x,y=y,edgecolor=\"black\")\n",
        "plt.xlabel(\"Platforms\")\n",
        "plt.ylabel(\"Games count\")\n",
        "plt.title(\"Games count by platform\")\n",
        "plt.show()"
      ],
      "execution_count": null,
      "outputs": [
        {
          "output_type": "display_data",
          "data": {
            "image/png": "[encoded data removed]",
            "text/plain": [
              "<Figure size 1080x432 with 1 Axes>"
            ]
          },
          "metadata": {
            "tags": []
          }
        }
      ]
    },
    {
      "cell_type": "markdown",
      "metadata": {
        "id": "1__3j5v9PxDQ"
      },
      "source": [
        "\n",
        "* Electronic Arts publisher game sales were high "
      ]
    },
    {
      "cell_type": "code",
      "metadata": {
        "colab": {
          "base_uri": "https://localhost:8080/",
          "height": 427
        },
        "id": "GDn4CbwZOOHq",
        "outputId": "d0a57cc8-3844-4b83-cf03-fb162af6ac3a"
      },
      "source": [
        "df = vgs.groupby(['Publisher'], as_index=False)['Global_Sales'].count()\n",
        "df=df[df['Global_Sales']>400]\n",
        "plt.figure(figsize=(15,6))\n",
        "sns.barplot(x='Publisher',data=df,y='Global_Sales',edgecolor=\"black\")\n",
        "plt.title(\"Game Publishers vs their global sales\")\n",
        "plt.ylabel(\"Global_sales\")"
      ],
      "execution_count": null,
      "outputs": [
        {
          "output_type": "execute_result",
          "data": {
            "text/plain": [
              "Text(0, 0.5, 'Global_sales')"
            ]
          },
          "metadata": {
            "tags": []
          },
          "execution_count": 31
        },
        {
          "output_type": "display_data",
          "data": {
            "image/png": "[encoded data removed]",
            "text/plain": [
              "<Figure size 1080x432 with 1 Axes>"
            ]
          },
          "metadata": {
            "tags": []
          }
        }
      ]
    },
    {
      "cell_type": "markdown",
      "metadata": {
        "id": "C0gn98gVoyFL"
      },
      "source": [
        "# Bar plot using matplotlib"
      ]
    },
    {
      "cell_type": "markdown",
      "metadata": {
        "id": "wYPeGzV8oThe"
      },
      "source": [
        "* More number of games were developed in the year 2008 and its been decreasing ever since then."
      ]
    },
    {
      "cell_type": "code",
      "metadata": {
        "colab": {
          "base_uri": "https://localhost:8080/",
          "height": 437
        },
        "id": "u2wpTFNQnie8",
        "outputId": "c6f0786f-c658-4872-d744-f2e64cd2c5ce"
      },
      "source": [
        "sales=vgs[['Year_of_release', 'NA_Sales', 'EU_Sales', 'JP_Sales', 'Other_Sales']].groupby('Year_of_release').sum()\n",
        "sales.index=sales.index.astype(int)\n",
        "sales.plot.bar(figsize=(16,6))\n",
        "plt.title(\"Games released in different years\")\n",
        "plt.ylabel(\"Games count\")\n",
        "plt.tight_layout()\n",
        "plt.show()"
      ],
      "execution_count": null,
      "outputs": [
        {
          "output_type": "display_data",
          "data": {
            "image/png": "[encoded data removed]",
            "text/plain": [
              "<Figure size 1152x432 with 1 Axes>"
            ]
          },
          "metadata": {
            "tags": []
          }
        }
      ]
    },
    {
      "cell_type": "markdown",
      "metadata": {
        "id": "ny6OcFBdtZxd"
      },
      "source": [
        "#Boxplot using seaborn"
      ]
    },
    {
      "cell_type": "markdown",
      "metadata": {
        "id": "6C4OboX2pGSM"
      },
      "source": [
        "* M (Mature 17+) games were sold more globally."
      ]
    },
    {
      "cell_type": "code",
      "metadata": {
        "colab": {
          "base_uri": "https://localhost:8080/",
          "height": 355
        },
        "id": "bxbeacfM5Hdb",
        "outputId": "0bcab86e-4a7d-48a2-f70a-7dfe02ea1bc8"
      },
      "source": [
        "sns.set_style(\"whitegrid\") \n",
        "f, ax = plt.subplots(figsize=(20,5))   \n",
        "sns.boxplot(x = 'Rating', y = 'Global_Sales', data = vgs,hue='Rating').set_title(\"Game sales Globally\")\n",
        "plt.ylabel(\"Global_sales(in millions of units)\")\n",
        "plt.ylim((0,3))\n",
        "plt.show()"
      ],
      "execution_count": null,
      "outputs": [
        {
          "output_type": "display_data",
          "data": {
            "image/png": "[encoded data removed]",
            "text/plain": [
              "<Figure size 1440x360 with 1 Axes>"
            ]
          },
          "metadata": {
            "tags": []
          }
        }
      ]
    },
    {
      "cell_type": "markdown",
      "metadata": {
        "id": "fb9J6RuE8Yyq"
      },
      "source": [
        "# Line chart using matplotlib"
      ]
    },
    {
      "cell_type": "markdown",
      "metadata": {
        "id": "9YYPJj1d7Usz"
      },
      "source": [
        "* compared the sales in North America, Japan and Europe for most popular games \n",
        "\n",
        "* Looks like Wii Sports was the most popular game."
      ]
    },
    {
      "cell_type": "code",
      "metadata": {
        "colab": {
          "base_uri": "https://localhost:8080/",
          "height": 555
        },
        "id": "BWv8i2BX6YoN",
        "outputId": "0a96a11e-494a-4eef-e664-61480d903f7d"
      },
      "source": [
        "fig = plt.figure(figsize=(20,8))\n",
        "plt.plot(vgs['Name'].head(), vgs['NA_Sales'].head(), color='pink', label='N.America_Sales')\n",
        "plt.plot(vgs['Name'].head(), vgs['JP_Sales'].head(), color ='red', label='Japan_Sales')\n",
        "plt.plot(vgs['Name'].head(), vgs['EU_Sales'].head(), color='yellow', label='Europe_Sales')\n",
        "plt.xlabel('Famous Games')\n",
        "plt.ylabel('Sales')\n",
        "plt.title('Popularity of Famous Games')\n",
        "plt.tight_layout()\n",
        "plt.legend()\n",
        "\n"
      ],
      "execution_count": null,
      "outputs": [
        {
          "output_type": "execute_result",
          "data": {
            "text/plain": [
              "<matplotlib.legend.Legend at 0x7f6c95f4fb38>"
            ]
          },
          "metadata": {
            "tags": []
          },
          "execution_count": 34
        },
        {
          "output_type": "display_data",
          "data": {
            "image/png": "[encoded data removed]",
            "text/plain": [
              "<Figure size 1440x576 with 1 Axes>"
            ]
          },
          "metadata": {
            "tags": []
          }
        }
      ]
    },
    {
      "cell_type": "markdown",
      "metadata": {
        "id": "FZaSdNSxxiFY"
      },
      "source": [
        "# Pairplot"
      ]
    },
    {
      "cell_type": "code",
      "metadata": {
        "colab": {
          "base_uri": "https://localhost:8080/",
          "height": 918
        },
        "id": "mSfN2jcVxO50",
        "outputId": "d4e930dd-3ff2-46d9-c36b-af00151befa2"
      },
      "source": [
        "x = vgs[['NA_Sales','EU_Sales','JP_Sales','Other_Sales','Global_Sales']]\n",
        "sns.pairplot(x)"
      ],
      "execution_count": null,
      "outputs": [
        {
          "output_type": "execute_result",
          "data": {
            "text/plain": [
              "<seaborn.axisgrid.PairGrid at 0x7f6c9e8e8080>"
            ]
          },
          "metadata": {
            "tags": []
          },
          "execution_count": 35
        },
        {
          "output_type": "display_data",
          "data": {
            "image/png": "[encoded data removed]",
            "text/plain": [
              "<Figure size 900x900 with 30 Axes>"
            ]
          },
          "metadata": {
            "tags": []
          }
        }
      ]
    },
    {
      "cell_type": "markdown",
      "metadata": {
        "id": "RSnJAFIu_rha"
      },
      "source": [
        "**What follow-up analyses might you be able to execute?**\n",
        "\n",
        "*  First i will make sure that my data looks proper and readable. By looking at the data i got to know that there are many Null values in the dataset that needs to be cleaned.\n",
        "\n",
        "*   There are some unnecessary data which are not useful for my analysis. so, i will drop those columns using drop function.\n",
        "\n",
        "* I think i can find the correlation between North America sales, European sales, Japan sales and other sales and can find whether the relationship between them is positive,negative or has no relation.\n",
        "\n",
        "**How would you do it?**\n",
        "\n",
        "* I have done some statistical analysis and data visualizations like count plot, barplot, boxplot and line plot to represent my analysis.\n",
        "\n",
        "Few findings:\n",
        "\n",
        "* Electronic Arts publishes more games than any other publishers. The games published by them are too high that may be none of the other publishers can reach them.\n",
        "\n",
        "* Wii sports was the best selling game on Wii platform with nearly 83 million sales.\n",
        "\n",
        "* Basically, ESRB ratings provide information about the game and categorize according to the age group. Here, it looks like developers are more focused on teenager games.\n",
        "\n",
        "* Even though, more games were developed for teenagers, M(Mature 17+) games has highest number of sales globally.\n",
        "\n",
        "* Wii console is developed by Nintendo and most of the games were running on it.\n",
        "\n",
        "**What would you do with the results?**\n",
        "\n",
        "* Game sales peaked in 2008 and has been decreasing ever since. However, data is not a representation of overall gaming scene.\n",
        "\n",
        "* Electronic Arts, Ubisoft and Activision are the few companies that can manage to survive if they maintain the same standards.\n",
        "\n",
        "* Action games were one of the most popular genre. These games include lots of challenges and the appeal of the action games is that they are intuitive to get into. May be that's the reason why action games are more popular. If they maintain the same levels they can survive in the market.\n",
        "\n",
        "* It is better to develop more games for age 17+ than developing for teenagers. Because \"M\" rating games were sold more globally.\n",
        "\n",
        "* By calculating the Pearson correlation coefficient i can see that North America sales and European sales has strong positive correlation. when the sales of North America was increasing then the sales of Europe was also increasing.\n",
        "\n",
        "\n",
        "\n",
        "\n",
        "\n",
        "\n"
      ]
    }
  ]
}